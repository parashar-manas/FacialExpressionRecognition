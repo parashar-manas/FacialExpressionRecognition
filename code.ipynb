{
  "cells": [
    {
      "cell_type": "markdown",
      "metadata": {
        "id": "view-in-github",
        "colab_type": "text"
      },
      "source": [
        "<a href=\"https://colab.research.google.com/github/parashar-manas/FacialExpressionRecognition/blob/main/code.ipynb\" target=\"_parent\"><img src=\"https://colab.research.google.com/assets/colab-badge.svg\" alt=\"Open In Colab\"/></a>"
      ]
    },
    {
      "cell_type": "code",
      "execution_count": 1,
      "metadata": {
        "colab": {
          "base_uri": "https://localhost:8080/"
        },
        "id": "b5XuLxiCqTo5",
        "outputId": "228812e1-67d1-4400-9701-238b2f173cab"
      },
      "outputs": [
        {
          "output_type": "stream",
          "name": "stdout",
          "text": [
            "Cloning into 'Facial-Expression-Dataset'...\n",
            "remote: Enumerating objects: 34052, done.\u001b[K\n",
            "remote: Total 34052 (delta 0), reused 0 (delta 0), pack-reused 34052\u001b[K\n",
            "Receiving objects: 100% (34052/34052), 52.31 MiB | 45.75 MiB/s, done.\n",
            "Resolving deltas: 100% (4/4), done.\n",
            "Updating files: 100% (35887/35887), done.\n",
            "Collecting git+https://github.com/albumentations-team/albumentations\n",
            "  Cloning https://github.com/albumentations-team/albumentations to /tmp/pip-req-build-7tuh_b9m\n",
            "  Running command git clone --filter=blob:none --quiet https://github.com/albumentations-team/albumentations /tmp/pip-req-build-7tuh_b9m\n",
            "  Resolved https://github.com/albumentations-team/albumentations to commit e3b47b3a127f92541cfeb16abbb44a6f8bf79cc8\n",
            "  Preparing metadata (setup.py) ... \u001b[?25l\u001b[?25hdone\n",
            "Requirement already satisfied: numpy>=1.11.1 in /usr/local/lib/python3.10/dist-packages (from albumentations==1.3.1) (1.23.5)\n",
            "Requirement already satisfied: scipy>=1.1.0 in /usr/local/lib/python3.10/dist-packages (from albumentations==1.3.1) (1.10.1)\n",
            "Requirement already satisfied: scikit-image>=0.16.1 in /usr/local/lib/python3.10/dist-packages (from albumentations==1.3.1) (0.19.3)\n",
            "Requirement already satisfied: PyYAML in /usr/local/lib/python3.10/dist-packages (from albumentations==1.3.1) (6.0.1)\n",
            "Requirement already satisfied: qudida>=0.0.4 in /usr/local/lib/python3.10/dist-packages (from albumentations==1.3.1) (0.0.4)\n",
            "Requirement already satisfied: opencv-python>=4.1.1 in /usr/local/lib/python3.10/dist-packages (from albumentations==1.3.1) (4.8.0.76)\n",
            "Requirement already satisfied: scikit-learn>=0.19.1 in /usr/local/lib/python3.10/dist-packages (from qudida>=0.0.4->albumentations==1.3.1) (1.2.2)\n",
            "Requirement already satisfied: typing-extensions in /usr/local/lib/python3.10/dist-packages (from qudida>=0.0.4->albumentations==1.3.1) (4.7.1)\n",
            "Requirement already satisfied: opencv-python-headless>=4.0.1 in /usr/local/lib/python3.10/dist-packages (from qudida>=0.0.4->albumentations==1.3.1) (4.8.0.76)\n",
            "Requirement already satisfied: networkx>=2.2 in /usr/local/lib/python3.10/dist-packages (from scikit-image>=0.16.1->albumentations==1.3.1) (3.1)\n",
            "Requirement already satisfied: pillow!=7.1.0,!=7.1.1,!=8.3.0,>=6.1.0 in /usr/local/lib/python3.10/dist-packages (from scikit-image>=0.16.1->albumentations==1.3.1) (9.4.0)\n",
            "Requirement already satisfied: imageio>=2.4.1 in /usr/local/lib/python3.10/dist-packages (from scikit-image>=0.16.1->albumentations==1.3.1) (2.31.1)\n",
            "Requirement already satisfied: tifffile>=2019.7.26 in /usr/local/lib/python3.10/dist-packages (from scikit-image>=0.16.1->albumentations==1.3.1) (2023.8.12)\n",
            "Requirement already satisfied: PyWavelets>=1.1.1 in /usr/local/lib/python3.10/dist-packages (from scikit-image>=0.16.1->albumentations==1.3.1) (1.4.1)\n",
            "Requirement already satisfied: packaging>=20.0 in /usr/local/lib/python3.10/dist-packages (from scikit-image>=0.16.1->albumentations==1.3.1) (23.1)\n",
            "Requirement already satisfied: joblib>=1.1.1 in /usr/local/lib/python3.10/dist-packages (from scikit-learn>=0.19.1->qudida>=0.0.4->albumentations==1.3.1) (1.3.2)\n",
            "Requirement already satisfied: threadpoolctl>=2.0.0 in /usr/local/lib/python3.10/dist-packages (from scikit-learn>=0.19.1->qudida>=0.0.4->albumentations==1.3.1) (3.2.0)\n",
            "Collecting timm\n",
            "  Downloading timm-0.9.7-py3-none-any.whl (2.2 MB)\n",
            "\u001b[2K     \u001b[90m━━━━━━━━━━━━━━━━━━━━━━━━━━━━━━━━━━━━━━━━\u001b[0m \u001b[32m2.2/2.2 MB\u001b[0m \u001b[31m7.2 MB/s\u001b[0m eta \u001b[36m0:00:00\u001b[0m\n",
            "\u001b[?25hRequirement already satisfied: torch>=1.7 in /usr/local/lib/python3.10/dist-packages (from timm) (2.0.1+cu118)\n",
            "Requirement already satisfied: torchvision in /usr/local/lib/python3.10/dist-packages (from timm) (0.15.2+cu118)\n",
            "Requirement already satisfied: pyyaml in /usr/local/lib/python3.10/dist-packages (from timm) (6.0.1)\n",
            "Collecting huggingface-hub (from timm)\n",
            "  Downloading huggingface_hub-0.16.4-py3-none-any.whl (268 kB)\n",
            "\u001b[2K     \u001b[90m━━━━━━━━━━━━━━━━━━━━━━━━━━━━━━━━━━━━━━\u001b[0m \u001b[32m268.8/268.8 kB\u001b[0m \u001b[31m12.4 MB/s\u001b[0m eta \u001b[36m0:00:00\u001b[0m\n",
            "\u001b[?25hCollecting safetensors (from timm)\n",
            "  Downloading safetensors-0.3.3-cp310-cp310-manylinux_2_17_x86_64.manylinux2014_x86_64.whl (1.3 MB)\n",
            "\u001b[2K     \u001b[90m━━━━━━━━━━━━━━━━━━━━━━━━━━━━━━━━━━━━━━━━\u001b[0m \u001b[32m1.3/1.3 MB\u001b[0m \u001b[31m16.9 MB/s\u001b[0m eta \u001b[36m0:00:00\u001b[0m\n",
            "\u001b[?25hRequirement already satisfied: filelock in /usr/local/lib/python3.10/dist-packages (from torch>=1.7->timm) (3.12.2)\n",
            "Requirement already satisfied: typing-extensions in /usr/local/lib/python3.10/dist-packages (from torch>=1.7->timm) (4.7.1)\n",
            "Requirement already satisfied: sympy in /usr/local/lib/python3.10/dist-packages (from torch>=1.7->timm) (1.12)\n",
            "Requirement already satisfied: networkx in /usr/local/lib/python3.10/dist-packages (from torch>=1.7->timm) (3.1)\n",
            "Requirement already satisfied: jinja2 in /usr/local/lib/python3.10/dist-packages (from torch>=1.7->timm) (3.1.2)\n",
            "Requirement already satisfied: triton==2.0.0 in /usr/local/lib/python3.10/dist-packages (from torch>=1.7->timm) (2.0.0)\n",
            "Requirement already satisfied: cmake in /usr/local/lib/python3.10/dist-packages (from triton==2.0.0->torch>=1.7->timm) (3.27.2)\n",
            "Requirement already satisfied: lit in /usr/local/lib/python3.10/dist-packages (from triton==2.0.0->torch>=1.7->timm) (16.0.6)\n",
            "Requirement already satisfied: fsspec in /usr/local/lib/python3.10/dist-packages (from huggingface-hub->timm) (2023.6.0)\n",
            "Requirement already satisfied: requests in /usr/local/lib/python3.10/dist-packages (from huggingface-hub->timm) (2.31.0)\n",
            "Requirement already satisfied: tqdm>=4.42.1 in /usr/local/lib/python3.10/dist-packages (from huggingface-hub->timm) (4.66.1)\n",
            "Requirement already satisfied: packaging>=20.9 in /usr/local/lib/python3.10/dist-packages (from huggingface-hub->timm) (23.1)\n",
            "Requirement already satisfied: numpy in /usr/local/lib/python3.10/dist-packages (from torchvision->timm) (1.23.5)\n",
            "Requirement already satisfied: pillow!=8.3.*,>=5.3.0 in /usr/local/lib/python3.10/dist-packages (from torchvision->timm) (9.4.0)\n",
            "Requirement already satisfied: MarkupSafe>=2.0 in /usr/local/lib/python3.10/dist-packages (from jinja2->torch>=1.7->timm) (2.1.3)\n",
            "Requirement already satisfied: charset-normalizer<4,>=2 in /usr/local/lib/python3.10/dist-packages (from requests->huggingface-hub->timm) (3.2.0)\n",
            "Requirement already satisfied: idna<4,>=2.5 in /usr/local/lib/python3.10/dist-packages (from requests->huggingface-hub->timm) (3.4)\n",
            "Requirement already satisfied: urllib3<3,>=1.21.1 in /usr/local/lib/python3.10/dist-packages (from requests->huggingface-hub->timm) (2.0.4)\n",
            "Requirement already satisfied: certifi>=2017.4.17 in /usr/local/lib/python3.10/dist-packages (from requests->huggingface-hub->timm) (2023.7.22)\n",
            "Requirement already satisfied: mpmath>=0.19 in /usr/local/lib/python3.10/dist-packages (from sympy->torch>=1.7->timm) (1.3.0)\n",
            "Installing collected packages: safetensors, huggingface-hub, timm\n",
            "Successfully installed huggingface-hub-0.16.4 safetensors-0.3.3 timm-0.9.7\n",
            "Requirement already satisfied: opencv-contrib-python in /usr/local/lib/python3.10/dist-packages (4.8.0.76)\n",
            "Requirement already satisfied: numpy>=1.21.2 in /usr/local/lib/python3.10/dist-packages (from opencv-contrib-python) (1.23.5)\n"
          ]
        }
      ],
      "source": [
        "# Clone the Facial Expression Dataset repository from GitHub\n",
        "!git clone https://github.com/parth1620/Facial-Expression-Dataset.git\n",
        "\n",
        "# Install or upgrade the Albumentations library using pip\n",
        "# Albumentations is a popular library for image augmentation techniques\n",
        "!pip install -U git+https://github.com/albumentations-team/albumentations\n",
        "\n",
        "# Install the 'timm' library, which provides pre-trained models and model building utilities\n",
        "!pip install timm\n",
        "\n",
        "# Upgrade or install the OpenCV library with the contrib package\n",
        "# OpenCV is a powerful computer vision library, and the contrib package includes additional features\n",
        "!pip install --upgrade opencv-contrib-python"
      ]
    },
    {
      "cell_type": "code",
      "execution_count": 2,
      "metadata": {
        "id": "zefwrAnqsbZS"
      },
      "outputs": [],
      "source": [
        "# Import the NumPy library for numerical operations and array manipulation\n",
        "import numpy as np\n",
        "\n",
        "# Import the Matplotlib library for data visualization, particularly for creating plots and charts\n",
        "import matplotlib.pyplot as plt\n",
        "\n",
        "# Import the PyTorch library, a popular deep learning framework for building and training neural networks\n",
        "import torch\n",
        "\n",
        "# Import the PIL (Python Imaging Library) module for image processing tasks\n",
        "from PIL import Image, ImageOps\n",
        "\n",
        "# Import the torchvision.transforms module, which provides a collection of image transformation functions\n",
        "import torchvision.transforms as T\n",
        "\n",
        "# Import the ImageFolder dataset class from torchvision.datasets module\n",
        "from torchvision.datasets import ImageFolder\n",
        "\n",
        "# Import the transforms module from torchvision, which provides image transformation functions\n",
        "from torchvision import transforms as T\n",
        "\n",
        "# Import the DataLoader class from the torch.utils.data module\n",
        "from torch.utils.data import DataLoader\n",
        "\n",
        "# Import the 'timm' library, which provides pre-trained deep learning models\n",
        "import timm\n",
        "\n",
        "# Import the 'nn' module from PyTorch, which contains neural network building blocks\n",
        "from torch import nn\n",
        "\n",
        "# Import the 'tqdm' library for displaying progress bars during iterations\n",
        "from tqdm import tqdm"
      ]
    },
    {
      "cell_type": "code",
      "execution_count": 3,
      "metadata": {
        "id": "DY8BPMpytC0b"
      },
      "outputs": [],
      "source": [
        "# Define the file path for the training images\n",
        "TRAIN_IMG_FOLDER_PATH = '/content/Facial-Expression-Dataset/train/'\n",
        "\n",
        "# Define the file path for the validation images\n",
        "VALID_IMG_FOLDER_PATH = '/content/Facial-Expression-Dataset/validation/'\n",
        "\n",
        "# Set the learning rate for training the model\n",
        "LP = 0.001\n",
        "\n",
        "# Set the batch size for training data\n",
        "BATCH_SIZE = 32\n",
        "\n",
        "# Set the number of training epochs\n",
        "EPOCHS = 20\n",
        "\n",
        "# Specify the device for model training (e.g., 'cuda' for GPU or 'cpu' for CPU)\n",
        "DEVICE = 'cuda'\n",
        "\n",
        "# Specify the name of the model to be used (e.g., 'efficientnet_b0')\n",
        "MODEL_NAME = 'efficientnet_b0'"
      ]
    },
    {
      "cell_type": "code",
      "execution_count": 4,
      "metadata": {
        "id": "MNRRWOnevo-A"
      },
      "outputs": [],
      "source": [
        "# Define a sequence of data augmentation transformations for training data\n",
        "train_augs = T.Compose([\n",
        "    # Randomly flip images horizontally with a 75% probability\n",
        "    T.RandomHorizontalFlip(p=0.75),\n",
        "\n",
        "    # Randomly rotate images within the range of -50 to +50 degrees\n",
        "    T.RandomRotation(degrees=(-50, +50)),\n",
        "\n",
        "    # Convert the augmented image to a PyTorch tensor\n",
        "    T.ToTensor()\n",
        "])\n",
        "\n",
        "# Define a sequence of transformations for validation data\n",
        "valid_augs = T.Compose([\n",
        "    # Convert the validation image to a PyTorch tensor\n",
        "    T.ToTensor()\n",
        "])"
      ]
    },
    {
      "cell_type": "code",
      "execution_count": 5,
      "metadata": {
        "id": "h8f9j4xZ0A6c"
      },
      "outputs": [],
      "source": [
        "# Create a training dataset using the ImageFolder class\n",
        "# The dataset is loaded from the TRAIN_IMG_FOLDER_PATH directory\n",
        "# The specified 'train_augs' transformations are applied to the images\n",
        "trainset = ImageFolder(TRAIN_IMG_FOLDER_PATH, transform=train_augs)\n",
        "\n",
        "# Create a validation dataset using the ImageFolder class\n",
        "# The dataset is loaded from the VALID_IMG_FOLDER_PATH directory\n",
        "# The specified 'valid_augs' transformations are applied to the images\n",
        "validset = ImageFolder(VALID_IMG_FOLDER_PATH, transform=valid_augs)"
      ]
    },
    {
      "cell_type": "code",
      "execution_count": 6,
      "metadata": {
        "colab": {
          "base_uri": "https://localhost:8080/"
        },
        "id": "neIR-Msy0x1G",
        "outputId": "c9f659fc-dd1a-467a-cbf0-2f8dbe31b7bd"
      },
      "outputs": [
        {
          "output_type": "stream",
          "name": "stdout",
          "text": [
            "Total Number of examples in Trainset: 28821\n",
            "Total Number of examples in Validset: 7066\n"
          ]
        }
      ],
      "source": [
        "# Print the total number of examples in the training dataset\n",
        "print(f\"Total Number of examples in Trainset: {len(trainset)}\")\n",
        "\n",
        "# Print the total number of examples in the validation dataset\n",
        "print(f\"Total Number of examples in Validset: {len(validset)}\")"
      ]
    },
    {
      "cell_type": "code",
      "execution_count": 7,
      "metadata": {
        "colab": {
          "base_uri": "https://localhost:8080/",
          "height": 469
        },
        "id": "Vnfr7fbZ1P2s",
        "outputId": "c5530434-e37c-4142-eddc-03ac4dafede0"
      },
      "outputs": [
        {
          "output_type": "execute_result",
          "data": {
            "text/plain": [
              "Text(0.5, 1.0, '0')"
            ]
          },
          "metadata": {},
          "execution_count": 7
        },
        {
          "output_type": "display_data",
          "data": {
            "text/plain": [
              "<Figure size 640x480 with 1 Axes>"
            ],
            "image/png": "[encoded data removed]"
          },
          "metadata": {}
        }
      ],
      "source": [
        "# Retrieve an image and its corresponding label from the training dataset (in this case, the 20th example)\n",
        "image, label = trainset[20]\n",
        "\n",
        "# Display the image using Matplotlib after permuting its dimensions to (height, width, channels)\n",
        "plt.imshow(image.permute(1, 2, 0))\n",
        "\n",
        "# Set the title of the plot to the label of the image\n",
        "plt.title(label)"
      ]
    },
    {
      "cell_type": "code",
      "execution_count": 8,
      "metadata": {
        "colab": {
          "base_uri": "https://localhost:8080/"
        },
        "id": "SJGz-QT36b0w",
        "outputId": "a2f92093-c4be-46ee-d2e4-261c7546555e"
      },
      "outputs": [
        {
          "output_type": "stream",
          "name": "stdout",
          "text": [
            "{'angry': 0, 'disgust': 1, 'fear': 2, 'happy': 3, 'neutral': 4, 'sad': 5, 'surprise': 6}\n"
          ]
        }
      ],
      "source": [
        "# Print the class-to-index mapping in the training dataset\n",
        "print(trainset.class_to_idx)"
      ]
    },
    {
      "cell_type": "code",
      "execution_count": 9,
      "metadata": {
        "id": "3wWKV6Zl-_Dj"
      },
      "outputs": [],
      "source": [
        "# Create a data loader for the training dataset\n",
        "# 'trainset' is the dataset to load from\n",
        "# 'BATCH_SIZE' specifies the batch size for loading data\n",
        "# 'shuffle=True' shuffles the data to ensure random order during training\n",
        "trainloader = DataLoader(trainset, batch_size=BATCH_SIZE, shuffle=True)\n",
        "\n",
        "# Create a data loader for the validation dataset\n",
        "# 'validset' is the dataset to load from\n",
        "# 'BATCH_SIZE' specifies the batch size for loading data\n",
        "# 'shuffle=True' shuffles the data to ensure random order during validation\n",
        "validloader = DataLoader(validset, batch_size=BATCH_SIZE, shuffle=True)"
      ]
    },
    {
      "cell_type": "code",
      "execution_count": 10,
      "metadata": {
        "colab": {
          "base_uri": "https://localhost:8080/"
        },
        "id": "LO4oMwtwAVdz",
        "outputId": "8ee36ceb-e2dc-4f62-bf20-b8b1bcfb813d"
      },
      "outputs": [
        {
          "output_type": "stream",
          "name": "stdout",
          "text": [
            "Total Number of batches in Trainloader: 901\n",
            "Total Number of batches in Validloader: 221\n"
          ]
        }
      ],
      "source": [
        "# Print the total number of batches in the training data loader\n",
        "print(f\"Total Number of batches in Trainloader: {len(trainloader)}\")\n",
        "\n",
        "# Print the total number of batches in the validation data loader\n",
        "print(f\"Total Number of batches in Validloader: {len(validloader)}\")"
      ]
    },
    {
      "cell_type": "code",
      "execution_count": 11,
      "metadata": {
        "colab": {
          "base_uri": "https://localhost:8080/"
        },
        "id": "--no6h8IAxGO",
        "outputId": "22e781b1-7417-4b02-aebd-7077a87fffbd"
      },
      "outputs": [
        {
          "output_type": "stream",
          "name": "stdout",
          "text": [
            "One image batch shape: torch.Size([32, 3, 48, 48])\n",
            "One label batch shape: torch.Size([32])\n"
          ]
        }
      ],
      "source": [
        "# Iterate over the training data loader to retrieve one batch of images and labels\n",
        "for images, labels in trainloader:\n",
        "    break\n",
        "\n",
        "# Print the shape of one batch of images\n",
        "print(f\"One image batch shape: {images.shape}\")\n",
        "\n",
        "# Print the shape of one batch of labels\n",
        "print(f\"One label batch shape: {labels.shape}\")"
      ]
    },
    {
      "cell_type": "code",
      "execution_count": 12,
      "metadata": {
        "id": "BO2cZhZbDUvV"
      },
      "outputs": [],
      "source": [
        "# Define a custom neural network model class called 'FaceModel'\n",
        "class FaceModel(nn.Module):\n",
        "\n",
        "    # Constructor method to initialize the model\n",
        "    def __init__(self):\n",
        "        super(FaceModel, self).__init__()\n",
        "\n",
        "        # Create an instance of the EfficientNet-B0 model with pretrained weights\n",
        "        self.eff_net = timm.create_model('efficientnet_b0', pretrained=True, num_classes=7)\n",
        "\n",
        "    # Forward method that defines the model's forward pass\n",
        "    def forward(self, images, labels=None):\n",
        "\n",
        "        # Pass the input images through the EfficientNet-B0 model\n",
        "        logits = self.eff_net(images)\n",
        "\n",
        "        if labels is not None:\n",
        "            # If labels are provided, compute the Cross-Entropy loss\n",
        "            loss = nn.CrossEntropyLoss()(logits, labels)\n",
        "            return logits, loss\n",
        "\n",
        "        # If labels are not provided, return the logits\n",
        "        return logits"
      ]
    },
    {
      "cell_type": "code",
      "execution_count": 13,
      "metadata": {
        "colab": {
          "base_uri": "https://localhost:8080/",
          "height": 1000,
          "referenced_widgets": [
            "0126e5de17154119b5349490ae7a9266",
            "dc9c468e9eec4be4bb93cd41365e8629",
            "6261561d691244128a2add85f91ff938",
            "3ae59230537d432da86c538a9643c135",
            "ee92fb739ec64bbc99fcfebc98463f09",
            "5a7c30f2f61a458693547c178b19ab37",
            "23f8646b84d34c09881a60b33a39b15d",
            "bf051edcc28a4dc6bb809d295189a618",
            "2070f58f005b4876ae8a31f8b1aebba6",
            "a8b7de3aa1d240ada495b5d1f4eba232",
            "93adf32a96364483929fb2e928826b23"
          ]
        },
        "id": "c5kCRD1xOl4h",
        "outputId": "22ab8845-af42-47f8-8eff-478acd16ab2b"
      },
      "outputs": [
        {
          "output_type": "display_data",
          "data": {
            "text/plain": [
              "Downloading model.safetensors:   0%|          | 0.00/21.4M [00:00<?, ?B/s]"
            ],
            "application/vnd.jupyter.widget-view+json": {
              "version_major": 2,
              "version_minor": 0,
              "model_id": "0126e5de17154119b5349490ae7a9266"
            }
          },
          "metadata": {}
        },
        {
          "output_type": "execute_result",
          "data": {
            "text/plain": [
              "FaceModel(\n",
              "  (eff_net): EfficientNet(\n",
              "    (conv_stem): Conv2d(3, 32, kernel_size=(3, 3), stride=(2, 2), padding=(1, 1), bias=False)\n",
              "    (bn1): BatchNormAct2d(\n",
              "      32, eps=1e-05, momentum=0.1, affine=True, track_running_stats=True\n",
              "      (drop): Identity()\n",
              "      (act): SiLU(inplace=True)\n",
              "    )\n",
              "    (blocks): Sequential(\n",
              "      (0): Sequential(\n",
              "        (0): DepthwiseSeparableConv(\n",
              "          (conv_dw): Conv2d(32, 32, kernel_size=(3, 3), stride=(1, 1), padding=(1, 1), groups=32, bias=False)\n",
              "          (bn1): BatchNormAct2d(\n",
              "            32, eps=1e-05, momentum=0.1, affine=True, track_running_stats=True\n",
              "            (drop): Identity()\n",
              "            (act): SiLU(inplace=True)\n",
              "          )\n",
              "          (se): SqueezeExcite(\n",
              "            (conv_reduce): Conv2d(32, 8, kernel_size=(1, 1), stride=(1, 1))\n",
              "            (act1): SiLU(inplace=True)\n",
              "            (conv_expand): Conv2d(8, 32, kernel_size=(1, 1), stride=(1, 1))\n",
              "            (gate): Sigmoid()\n",
              "          )\n",
              "          (conv_pw): Conv2d(32, 16, kernel_size=(1, 1), stride=(1, 1), bias=False)\n",
              "          (bn2): BatchNormAct2d(\n",
              "            16, eps=1e-05, momentum=0.1, affine=True, track_running_stats=True\n",
              "            (drop): Identity()\n",
              "            (act): Identity()\n",
              "          )\n",
              "          (drop_path): Identity()\n",
              "        )\n",
              "      )\n",
              "      (1): Sequential(\n",
              "        (0): InvertedResidual(\n",
              "          (conv_pw): Conv2d(16, 96, kernel_size=(1, 1), stride=(1, 1), bias=False)\n",
              "          (bn1): BatchNormAct2d(\n",
              "            96, eps=1e-05, momentum=0.1, affine=True, track_running_stats=True\n",
              "            (drop): Identity()\n",
              "            (act): SiLU(inplace=True)\n",
              "          )\n",
              "          (conv_dw): Conv2d(96, 96, kernel_size=(3, 3), stride=(2, 2), padding=(1, 1), groups=96, bias=False)\n",
              "          (bn2): BatchNormAct2d(\n",
              "            96, eps=1e-05, momentum=0.1, affine=True, track_running_stats=True\n",
              "            (drop): Identity()\n",
              "            (act): SiLU(inplace=True)\n",
              "          )\n",
              "          (se): SqueezeExcite(\n",
              "            (conv_reduce): Conv2d(96, 4, kernel_size=(1, 1), stride=(1, 1))\n",
              "            (act1): SiLU(inplace=True)\n",
              "            (conv_expand): Conv2d(4, 96, kernel_size=(1, 1), stride=(1, 1))\n",
              "            (gate): Sigmoid()\n",
              "          )\n",
              "          (conv_pwl): Conv2d(96, 24, kernel_size=(1, 1), stride=(1, 1), bias=False)\n",
              "          (bn3): BatchNormAct2d(\n",
              "            24, eps=1e-05, momentum=0.1, affine=True, track_running_stats=True\n",
              "            (drop): Identity()\n",
              "            (act): Identity()\n",
              "          )\n",
              "          (drop_path): Identity()\n",
              "        )\n",
              "        (1): InvertedResidual(\n",
              "          (conv_pw): Conv2d(24, 144, kernel_size=(1, 1), stride=(1, 1), bias=False)\n",
              "          (bn1): BatchNormAct2d(\n",
              "            144, eps=1e-05, momentum=0.1, affine=True, track_running_stats=True\n",
              "            (drop): Identity()\n",
              "            (act): SiLU(inplace=True)\n",
              "          )\n",
              "          (conv_dw): Conv2d(144, 144, kernel_size=(3, 3), stride=(1, 1), padding=(1, 1), groups=144, bias=False)\n",
              "          (bn2): BatchNormAct2d(\n",
              "            144, eps=1e-05, momentum=0.1, affine=True, track_running_stats=True\n",
              "            (drop): Identity()\n",
              "            (act): SiLU(inplace=True)\n",
              "          )\n",
              "          (se): SqueezeExcite(\n",
              "            (conv_reduce): Conv2d(144, 6, kernel_size=(1, 1), stride=(1, 1))\n",
              "            (act1): SiLU(inplace=True)\n",
              "            (conv_expand): Conv2d(6, 144, kernel_size=(1, 1), stride=(1, 1))\n",
              "            (gate): Sigmoid()\n",
              "          )\n",
              "          (conv_pwl): Conv2d(144, 24, kernel_size=(1, 1), stride=(1, 1), bias=False)\n",
              "          (bn3): BatchNormAct2d(\n",
              "            24, eps=1e-05, momentum=0.1, affine=True, track_running_stats=True\n",
              "            (drop): Identity()\n",
              "            (act): Identity()\n",
              "          )\n",
              "          (drop_path): Identity()\n",
              "        )\n",
              "      )\n",
              "      (2): Sequential(\n",
              "        (0): InvertedResidual(\n",
              "          (conv_pw): Conv2d(24, 144, kernel_size=(1, 1), stride=(1, 1), bias=False)\n",
              "          (bn1): BatchNormAct2d(\n",
              "            144, eps=1e-05, momentum=0.1, affine=True, track_running_stats=True\n",
              "            (drop): Identity()\n",
              "            (act): SiLU(inplace=True)\n",
              "          )\n",
              "          (conv_dw): Conv2d(144, 144, kernel_size=(5, 5), stride=(2, 2), padding=(2, 2), groups=144, bias=False)\n",
              "          (bn2): BatchNormAct2d(\n",
              "            144, eps=1e-05, momentum=0.1, affine=True, track_running_stats=True\n",
              "            (drop): Identity()\n",
              "            (act): SiLU(inplace=True)\n",
              "          )\n",
              "          (se): SqueezeExcite(\n",
              "            (conv_reduce): Conv2d(144, 6, kernel_size=(1, 1), stride=(1, 1))\n",
              "            (act1): SiLU(inplace=True)\n",
              "            (conv_expand): Conv2d(6, 144, kernel_size=(1, 1), stride=(1, 1))\n",
              "            (gate): Sigmoid()\n",
              "          )\n",
              "          (conv_pwl): Conv2d(144, 40, kernel_size=(1, 1), stride=(1, 1), bias=False)\n",
              "          (bn3): BatchNormAct2d(\n",
              "            40, eps=1e-05, momentum=0.1, affine=True, track_running_stats=True\n",
              "            (drop): Identity()\n",
              "            (act): Identity()\n",
              "          )\n",
              "          (drop_path): Identity()\n",
              "        )\n",
              "        (1): InvertedResidual(\n",
              "          (conv_pw): Conv2d(40, 240, kernel_size=(1, 1), stride=(1, 1), bias=False)\n",
              "          (bn1): BatchNormAct2d(\n",
              "            240, eps=1e-05, momentum=0.1, affine=True, track_running_stats=True\n",
              "            (drop): Identity()\n",
              "            (act): SiLU(inplace=True)\n",
              "          )\n",
              "          (conv_dw): Conv2d(240, 240, kernel_size=(5, 5), stride=(1, 1), padding=(2, 2), groups=240, bias=False)\n",
              "          (bn2): BatchNormAct2d(\n",
              "            240, eps=1e-05, momentum=0.1, affine=True, track_running_stats=True\n",
              "            (drop): Identity()\n",
              "            (act): SiLU(inplace=True)\n",
              "          )\n",
              "          (se): SqueezeExcite(\n",
              "            (conv_reduce): Conv2d(240, 10, kernel_size=(1, 1), stride=(1, 1))\n",
              "            (act1): SiLU(inplace=True)\n",
              "            (conv_expand): Conv2d(10, 240, kernel_size=(1, 1), stride=(1, 1))\n",
              "            (gate): Sigmoid()\n",
              "          )\n",
              "          (conv_pwl): Conv2d(240, 40, kernel_size=(1, 1), stride=(1, 1), bias=False)\n",
              "          (bn3): BatchNormAct2d(\n",
              "            40, eps=1e-05, momentum=0.1, affine=True, track_running_stats=True\n",
              "            (drop): Identity()\n",
              "            (act): Identity()\n",
              "          )\n",
              "          (drop_path): Identity()\n",
              "        )\n",
              "      )\n",
              "      (3): Sequential(\n",
              "        (0): InvertedResidual(\n",
              "          (conv_pw): Conv2d(40, 240, kernel_size=(1, 1), stride=(1, 1), bias=False)\n",
              "          (bn1): BatchNormAct2d(\n",
              "            240, eps=1e-05, momentum=0.1, affine=True, track_running_stats=True\n",
              "            (drop): Identity()\n",
              "            (act): SiLU(inplace=True)\n",
              "          )\n",
              "          (conv_dw): Conv2d(240, 240, kernel_size=(3, 3), stride=(2, 2), padding=(1, 1), groups=240, bias=False)\n",
              "          (bn2): BatchNormAct2d(\n",
              "            240, eps=1e-05, momentum=0.1, affine=True, track_running_stats=True\n",
              "            (drop): Identity()\n",
              "            (act): SiLU(inplace=True)\n",
              "          )\n",
              "          (se): SqueezeExcite(\n",
              "            (conv_reduce): Conv2d(240, 10, kernel_size=(1, 1), stride=(1, 1))\n",
              "            (act1): SiLU(inplace=True)\n",
              "            (conv_expand): Conv2d(10, 240, kernel_size=(1, 1), stride=(1, 1))\n",
              "            (gate): Sigmoid()\n",
              "          )\n",
              "          (conv_pwl): Conv2d(240, 80, kernel_size=(1, 1), stride=(1, 1), bias=False)\n",
              "          (bn3): BatchNormAct2d(\n",
              "            80, eps=1e-05, momentum=0.1, affine=True, track_running_stats=True\n",
              "            (drop): Identity()\n",
              "            (act): Identity()\n",
              "          )\n",
              "          (drop_path): Identity()\n",
              "        )\n",
              "        (1): InvertedResidual(\n",
              "          (conv_pw): Conv2d(80, 480, kernel_size=(1, 1), stride=(1, 1), bias=False)\n",
              "          (bn1): BatchNormAct2d(\n",
              "            480, eps=1e-05, momentum=0.1, affine=True, track_running_stats=True\n",
              "            (drop): Identity()\n",
              "            (act): SiLU(inplace=True)\n",
              "          )\n",
              "          (conv_dw): Conv2d(480, 480, kernel_size=(3, 3), stride=(1, 1), padding=(1, 1), groups=480, bias=False)\n",
              "          (bn2): BatchNormAct2d(\n",
              "            480, eps=1e-05, momentum=0.1, affine=True, track_running_stats=True\n",
              "            (drop): Identity()\n",
              "            (act): SiLU(inplace=True)\n",
              "          )\n",
              "          (se): SqueezeExcite(\n",
              "            (conv_reduce): Conv2d(480, 20, kernel_size=(1, 1), stride=(1, 1))\n",
              "            (act1): SiLU(inplace=True)\n",
              "            (conv_expand): Conv2d(20, 480, kernel_size=(1, 1), stride=(1, 1))\n",
              "            (gate): Sigmoid()\n",
              "          )\n",
              "          (conv_pwl): Conv2d(480, 80, kernel_size=(1, 1), stride=(1, 1), bias=False)\n",
              "          (bn3): BatchNormAct2d(\n",
              "            80, eps=1e-05, momentum=0.1, affine=True, track_running_stats=True\n",
              "            (drop): Identity()\n",
              "            (act): Identity()\n",
              "          )\n",
              "          (drop_path): Identity()\n",
              "        )\n",
              "        (2): InvertedResidual(\n",
              "          (conv_pw): Conv2d(80, 480, kernel_size=(1, 1), stride=(1, 1), bias=False)\n",
              "          (bn1): BatchNormAct2d(\n",
              "            480, eps=1e-05, momentum=0.1, affine=True, track_running_stats=True\n",
              "            (drop): Identity()\n",
              "            (act): SiLU(inplace=True)\n",
              "          )\n",
              "          (conv_dw): Conv2d(480, 480, kernel_size=(3, 3), stride=(1, 1), padding=(1, 1), groups=480, bias=False)\n",
              "          (bn2): BatchNormAct2d(\n",
              "            480, eps=1e-05, momentum=0.1, affine=True, track_running_stats=True\n",
              "            (drop): Identity()\n",
              "            (act): SiLU(inplace=True)\n",
              "          )\n",
              "          (se): SqueezeExcite(\n",
              "            (conv_reduce): Conv2d(480, 20, kernel_size=(1, 1), stride=(1, 1))\n",
              "            (act1): SiLU(inplace=True)\n",
              "            (conv_expand): Conv2d(20, 480, kernel_size=(1, 1), stride=(1, 1))\n",
              "            (gate): Sigmoid()\n",
              "          )\n",
              "          (conv_pwl): Conv2d(480, 80, kernel_size=(1, 1), stride=(1, 1), bias=False)\n",
              "          (bn3): BatchNormAct2d(\n",
              "            80, eps=1e-05, momentum=0.1, affine=True, track_running_stats=True\n",
              "            (drop): Identity()\n",
              "            (act): Identity()\n",
              "          )\n",
              "          (drop_path): Identity()\n",
              "        )\n",
              "      )\n",
              "      (4): Sequential(\n",
              "        (0): InvertedResidual(\n",
              "          (conv_pw): Conv2d(80, 480, kernel_size=(1, 1), stride=(1, 1), bias=False)\n",
              "          (bn1): BatchNormAct2d(\n",
              "            480, eps=1e-05, momentum=0.1, affine=True, track_running_stats=True\n",
              "            (drop): Identity()\n",
              "            (act): SiLU(inplace=True)\n",
              "          )\n",
              "          (conv_dw): Conv2d(480, 480, kernel_size=(5, 5), stride=(1, 1), padding=(2, 2), groups=480, bias=False)\n",
              "          (bn2): BatchNormAct2d(\n",
              "            480, eps=1e-05, momentum=0.1, affine=True, track_running_stats=True\n",
              "            (drop): Identity()\n",
              "            (act): SiLU(inplace=True)\n",
              "          )\n",
              "          (se): SqueezeExcite(\n",
              "            (conv_reduce): Conv2d(480, 20, kernel_size=(1, 1), stride=(1, 1))\n",
              "            (act1): SiLU(inplace=True)\n",
              "            (conv_expand): Conv2d(20, 480, kernel_size=(1, 1), stride=(1, 1))\n",
              "            (gate): Sigmoid()\n",
              "          )\n",
              "          (conv_pwl): Conv2d(480, 112, kernel_size=(1, 1), stride=(1, 1), bias=False)\n",
              "          (bn3): BatchNormAct2d(\n",
              "            112, eps=1e-05, momentum=0.1, affine=True, track_running_stats=True\n",
              "            (drop): Identity()\n",
              "            (act): Identity()\n",
              "          )\n",
              "          (drop_path): Identity()\n",
              "        )\n",
              "        (1): InvertedResidual(\n",
              "          (conv_pw): Conv2d(112, 672, kernel_size=(1, 1), stride=(1, 1), bias=False)\n",
              "          (bn1): BatchNormAct2d(\n",
              "            672, eps=1e-05, momentum=0.1, affine=True, track_running_stats=True\n",
              "            (drop): Identity()\n",
              "            (act): SiLU(inplace=True)\n",
              "          )\n",
              "          (conv_dw): Conv2d(672, 672, kernel_size=(5, 5), stride=(1, 1), padding=(2, 2), groups=672, bias=False)\n",
              "          (bn2): BatchNormAct2d(\n",
              "            672, eps=1e-05, momentum=0.1, affine=True, track_running_stats=True\n",
              "            (drop): Identity()\n",
              "            (act): SiLU(inplace=True)\n",
              "          )\n",
              "          (se): SqueezeExcite(\n",
              "            (conv_reduce): Conv2d(672, 28, kernel_size=(1, 1), stride=(1, 1))\n",
              "            (act1): SiLU(inplace=True)\n",
              "            (conv_expand): Conv2d(28, 672, kernel_size=(1, 1), stride=(1, 1))\n",
              "            (gate): Sigmoid()\n",
              "          )\n",
              "          (conv_pwl): Conv2d(672, 112, kernel_size=(1, 1), stride=(1, 1), bias=False)\n",
              "          (bn3): BatchNormAct2d(\n",
              "            112, eps=1e-05, momentum=0.1, affine=True, track_running_stats=True\n",
              "            (drop): Identity()\n",
              "            (act): Identity()\n",
              "          )\n",
              "          (drop_path): Identity()\n",
              "        )\n",
              "        (2): InvertedResidual(\n",
              "          (conv_pw): Conv2d(112, 672, kernel_size=(1, 1), stride=(1, 1), bias=False)\n",
              "          (bn1): BatchNormAct2d(\n",
              "            672, eps=1e-05, momentum=0.1, affine=True, track_running_stats=True\n",
              "            (drop): Identity()\n",
              "            (act): SiLU(inplace=True)\n",
              "          )\n",
              "          (conv_dw): Conv2d(672, 672, kernel_size=(5, 5), stride=(1, 1), padding=(2, 2), groups=672, bias=False)\n",
              "          (bn2): BatchNormAct2d(\n",
              "            672, eps=1e-05, momentum=0.1, affine=True, track_running_stats=True\n",
              "            (drop): Identity()\n",
              "            (act): SiLU(inplace=True)\n",
              "          )\n",
              "          (se): SqueezeExcite(\n",
              "            (conv_reduce): Conv2d(672, 28, kernel_size=(1, 1), stride=(1, 1))\n",
              "            (act1): SiLU(inplace=True)\n",
              "            (conv_expand): Conv2d(28, 672, kernel_size=(1, 1), stride=(1, 1))\n",
              "            (gate): Sigmoid()\n",
              "          )\n",
              "          (conv_pwl): Conv2d(672, 112, kernel_size=(1, 1), stride=(1, 1), bias=False)\n",
              "          (bn3): BatchNormAct2d(\n",
              "            112, eps=1e-05, momentum=0.1, affine=True, track_running_stats=True\n",
              "            (drop): Identity()\n",
              "            (act): Identity()\n",
              "          )\n",
              "          (drop_path): Identity()\n",
              "        )\n",
              "      )\n",
              "      (5): Sequential(\n",
              "        (0): InvertedResidual(\n",
              "          (conv_pw): Conv2d(112, 672, kernel_size=(1, 1), stride=(1, 1), bias=False)\n",
              "          (bn1): BatchNormAct2d(\n",
              "            672, eps=1e-05, momentum=0.1, affine=True, track_running_stats=True\n",
              "            (drop): Identity()\n",
              "            (act): SiLU(inplace=True)\n",
              "          )\n",
              "          (conv_dw): Conv2d(672, 672, kernel_size=(5, 5), stride=(2, 2), padding=(2, 2), groups=672, bias=False)\n",
              "          (bn2): BatchNormAct2d(\n",
              "            672, eps=1e-05, momentum=0.1, affine=True, track_running_stats=True\n",
              "            (drop): Identity()\n",
              "            (act): SiLU(inplace=True)\n",
              "          )\n",
              "          (se): SqueezeExcite(\n",
              "            (conv_reduce): Conv2d(672, 28, kernel_size=(1, 1), stride=(1, 1))\n",
              "            (act1): SiLU(inplace=True)\n",
              "            (conv_expand): Conv2d(28, 672, kernel_size=(1, 1), stride=(1, 1))\n",
              "            (gate): Sigmoid()\n",
              "          )\n",
              "          (conv_pwl): Conv2d(672, 192, kernel_size=(1, 1), stride=(1, 1), bias=False)\n",
              "          (bn3): BatchNormAct2d(\n",
              "            192, eps=1e-05, momentum=0.1, affine=True, track_running_stats=True\n",
              "            (drop): Identity()\n",
              "            (act): Identity()\n",
              "          )\n",
              "          (drop_path): Identity()\n",
              "        )\n",
              "        (1): InvertedResidual(\n",
              "          (conv_pw): Conv2d(192, 1152, kernel_size=(1, 1), stride=(1, 1), bias=False)\n",
              "          (bn1): BatchNormAct2d(\n",
              "            1152, eps=1e-05, momentum=0.1, affine=True, track_running_stats=True\n",
              "            (drop): Identity()\n",
              "            (act): SiLU(inplace=True)\n",
              "          )\n",
              "          (conv_dw): Conv2d(1152, 1152, kernel_size=(5, 5), stride=(1, 1), padding=(2, 2), groups=1152, bias=False)\n",
              "          (bn2): BatchNormAct2d(\n",
              "            1152, eps=1e-05, momentum=0.1, affine=True, track_running_stats=True\n",
              "            (drop): Identity()\n",
              "            (act): SiLU(inplace=True)\n",
              "          )\n",
              "          (se): SqueezeExcite(\n",
              "            (conv_reduce): Conv2d(1152, 48, kernel_size=(1, 1), stride=(1, 1))\n",
              "            (act1): SiLU(inplace=True)\n",
              "            (conv_expand): Conv2d(48, 1152, kernel_size=(1, 1), stride=(1, 1))\n",
              "            (gate): Sigmoid()\n",
              "          )\n",
              "          (conv_pwl): Conv2d(1152, 192, kernel_size=(1, 1), stride=(1, 1), bias=False)\n",
              "          (bn3): BatchNormAct2d(\n",
              "            192, eps=1e-05, momentum=0.1, affine=True, track_running_stats=True\n",
              "            (drop): Identity()\n",
              "            (act): Identity()\n",
              "          )\n",
              "          (drop_path): Identity()\n",
              "        )\n",
              "        (2): InvertedResidual(\n",
              "          (conv_pw): Conv2d(192, 1152, kernel_size=(1, 1), stride=(1, 1), bias=False)\n",
              "          (bn1): BatchNormAct2d(\n",
              "            1152, eps=1e-05, momentum=0.1, affine=True, track_running_stats=True\n",
              "            (drop): Identity()\n",
              "            (act): SiLU(inplace=True)\n",
              "          )\n",
              "          (conv_dw): Conv2d(1152, 1152, kernel_size=(5, 5), stride=(1, 1), padding=(2, 2), groups=1152, bias=False)\n",
              "          (bn2): BatchNormAct2d(\n",
              "            1152, eps=1e-05, momentum=0.1, affine=True, track_running_stats=True\n",
              "            (drop): Identity()\n",
              "            (act): SiLU(inplace=True)\n",
              "          )\n",
              "          (se): SqueezeExcite(\n",
              "            (conv_reduce): Conv2d(1152, 48, kernel_size=(1, 1), stride=(1, 1))\n",
              "            (act1): SiLU(inplace=True)\n",
              "            (conv_expand): Conv2d(48, 1152, kernel_size=(1, 1), stride=(1, 1))\n",
              "            (gate): Sigmoid()\n",
              "          )\n",
              "          (conv_pwl): Conv2d(1152, 192, kernel_size=(1, 1), stride=(1, 1), bias=False)\n",
              "          (bn3): BatchNormAct2d(\n",
              "            192, eps=1e-05, momentum=0.1, affine=True, track_running_stats=True\n",
              "            (drop): Identity()\n",
              "            (act): Identity()\n",
              "          )\n",
              "          (drop_path): Identity()\n",
              "        )\n",
              "        (3): InvertedResidual(\n",
              "          (conv_pw): Conv2d(192, 1152, kernel_size=(1, 1), stride=(1, 1), bias=False)\n",
              "          (bn1): BatchNormAct2d(\n",
              "            1152, eps=1e-05, momentum=0.1, affine=True, track_running_stats=True\n",
              "            (drop): Identity()\n",
              "            (act): SiLU(inplace=True)\n",
              "          )\n",
              "          (conv_dw): Conv2d(1152, 1152, kernel_size=(5, 5), stride=(1, 1), padding=(2, 2), groups=1152, bias=False)\n",
              "          (bn2): BatchNormAct2d(\n",
              "            1152, eps=1e-05, momentum=0.1, affine=True, track_running_stats=True\n",
              "            (drop): Identity()\n",
              "            (act): SiLU(inplace=True)\n",
              "          )\n",
              "          (se): SqueezeExcite(\n",
              "            (conv_reduce): Conv2d(1152, 48, kernel_size=(1, 1), stride=(1, 1))\n",
              "            (act1): SiLU(inplace=True)\n",
              "            (conv_expand): Conv2d(48, 1152, kernel_size=(1, 1), stride=(1, 1))\n",
              "            (gate): Sigmoid()\n",
              "          )\n",
              "          (conv_pwl): Conv2d(1152, 192, kernel_size=(1, 1), stride=(1, 1), bias=False)\n",
              "          (bn3): BatchNormAct2d(\n",
              "            192, eps=1e-05, momentum=0.1, affine=True, track_running_stats=True\n",
              "            (drop): Identity()\n",
              "            (act): Identity()\n",
              "          )\n",
              "          (drop_path): Identity()\n",
              "        )\n",
              "      )\n",
              "      (6): Sequential(\n",
              "        (0): InvertedResidual(\n",
              "          (conv_pw): Conv2d(192, 1152, kernel_size=(1, 1), stride=(1, 1), bias=False)\n",
              "          (bn1): BatchNormAct2d(\n",
              "            1152, eps=1e-05, momentum=0.1, affine=True, track_running_stats=True\n",
              "            (drop): Identity()\n",
              "            (act): SiLU(inplace=True)\n",
              "          )\n",
              "          (conv_dw): Conv2d(1152, 1152, kernel_size=(3, 3), stride=(1, 1), padding=(1, 1), groups=1152, bias=False)\n",
              "          (bn2): BatchNormAct2d(\n",
              "            1152, eps=1e-05, momentum=0.1, affine=True, track_running_stats=True\n",
              "            (drop): Identity()\n",
              "            (act): SiLU(inplace=True)\n",
              "          )\n",
              "          (se): SqueezeExcite(\n",
              "            (conv_reduce): Conv2d(1152, 48, kernel_size=(1, 1), stride=(1, 1))\n",
              "            (act1): SiLU(inplace=True)\n",
              "            (conv_expand): Conv2d(48, 1152, kernel_size=(1, 1), stride=(1, 1))\n",
              "            (gate): Sigmoid()\n",
              "          )\n",
              "          (conv_pwl): Conv2d(1152, 320, kernel_size=(1, 1), stride=(1, 1), bias=False)\n",
              "          (bn3): BatchNormAct2d(\n",
              "            320, eps=1e-05, momentum=0.1, affine=True, track_running_stats=True\n",
              "            (drop): Identity()\n",
              "            (act): Identity()\n",
              "          )\n",
              "          (drop_path): Identity()\n",
              "        )\n",
              "      )\n",
              "    )\n",
              "    (conv_head): Conv2d(320, 1280, kernel_size=(1, 1), stride=(1, 1), bias=False)\n",
              "    (bn2): BatchNormAct2d(\n",
              "      1280, eps=1e-05, momentum=0.1, affine=True, track_running_stats=True\n",
              "      (drop): Identity()\n",
              "      (act): SiLU(inplace=True)\n",
              "    )\n",
              "    (global_pool): SelectAdaptivePool2d (pool_type=avg, flatten=Flatten(start_dim=1, end_dim=-1))\n",
              "    (classifier): Linear(in_features=1280, out_features=7, bias=True)\n",
              "  )\n",
              ")"
            ]
          },
          "metadata": {},
          "execution_count": 13
        }
      ],
      "source": [
        "# Create an instance of the 'FaceModel' class, which is a custom neural network model\n",
        "model = FaceModel()\n",
        "\n",
        "# Move the model to the specified device ('cuda' for GPU, 'cpu' for CPU)\n",
        "model.to(DEVICE)"
      ]
    },
    {
      "cell_type": "code",
      "execution_count": 14,
      "metadata": {
        "id": "dNC7suZZSssg"
      },
      "outputs": [],
      "source": [
        "# Define a function to calculate the multi-class classification accuracy\n",
        "def multiclass_accuracy(y_pred, y_true):\n",
        "    # Get the predicted class with the highest probability for each example\n",
        "    top_p, top_class = y_pred.topk(1, dim=1)\n",
        "\n",
        "    # Compare the predicted class with the true class labels\n",
        "    equals = top_class == y_true.view(*top_class.shape)\n",
        "\n",
        "    # Calculate the mean accuracy over all examples and return it\n",
        "    return torch.mean(equals.type(torch.FloatTensor))"
      ]
    },
    {
      "cell_type": "code",
      "execution_count": 15,
      "metadata": {
        "id": "ajXUDUN7Tav1"
      },
      "outputs": [],
      "source": [
        "# Define a function for training a deep learning model\n",
        "def train_fn(model, dataloader, optimizer, current_epo):\n",
        "    # Set the model to training mode\n",
        "    model.train()\n",
        "\n",
        "    # Initialize variables to keep track of total loss and total accuracy\n",
        "    total_loss = 0.0\n",
        "    total_acc = 0.0\n",
        "\n",
        "    # Create a tqdm progress bar to display training progress\n",
        "    tk = tqdm(dataloader, desc=\"EPOCH [TRAIN] \" + str(current_epo + 1) + \"/\" + str(EPOCHS))\n",
        "\n",
        "    # Iterate over batches in the dataloader\n",
        "    for t, data in enumerate(tk):\n",
        "        images, labels = data\n",
        "        images, labels = images.to(DEVICE), labels.to(DEVICE)\n",
        "\n",
        "        # Zero the gradients to prevent accumulation\n",
        "        optimizer.zero_grad()\n",
        "\n",
        "        # Forward pass through the model and compute the loss\n",
        "        logits, loss = model(images, labels)\n",
        "\n",
        "        # Backpropagate the gradients and update the model's parameters\n",
        "        loss.backward()\n",
        "        optimizer.step()\n",
        "\n",
        "        # Update the total loss and accuracy\n",
        "        total_loss += loss.item()\n",
        "        total_acc += multiclass_accuracy(logits, labels)\n",
        "\n",
        "        # Update the tqdm progress bar with loss and accuracy information\n",
        "        tk.set_postfix({'Loss': '%6f' % float(total_loss / (t + 1)), 'Accuracy': '%6f' % float(total_acc / (t + 1))})\n",
        "\n",
        "    # Calculate and return the average loss and accuracy for the epoch\n",
        "    return total_loss / len(dataloader), total_acc / len(dataloader)"
      ]
    },
    {
      "cell_type": "code",
      "execution_count": 16,
      "metadata": {
        "id": "zCwVqnMCWdqv"
      },
      "outputs": [],
      "source": [
        "# Define a function for evaluating a deep learning model\n",
        "def eval_fn(model, dataloader, current_epo):\n",
        "    # Set the model to evaluation mode\n",
        "    model.eval()\n",
        "\n",
        "    # Initialize variables to keep track of total loss and total accuracy\n",
        "    total_loss = 0.0\n",
        "    total_acc = 0.0\n",
        "\n",
        "    # Create a tqdm progress bar to display evaluation progress\n",
        "    tk = tqdm(dataloader, desc=\"EPOCH [VALID] \" + str(current_epo + 1) + \"/\" + str(EPOCHS))\n",
        "\n",
        "    # Iterate over batches in the dataloader\n",
        "    for t, data in enumerate(tk):\n",
        "        images, labels = data\n",
        "        images, labels = images.to(DEVICE), labels.to(DEVICE)\n",
        "\n",
        "        # Forward pass through the model and compute the loss\n",
        "        logits, loss = model(images, labels)\n",
        "\n",
        "        # Update the total loss and accuracy\n",
        "        total_loss += loss.item()\n",
        "        total_acc += multiclass_accuracy(logits, labels)\n",
        "\n",
        "        # Update the tqdm progress bar with loss and accuracy information\n",
        "        tk.set_postfix({'Loss': '%6f' % float(total_loss / (t + 1)), 'Accuracy': '%6f' % float(total_acc / (t + 1))})\n",
        "\n",
        "    # Calculate and return the average loss and accuracy for the epoch\n",
        "    return total_loss / len(dataloader), total_acc / len(dataloader)"
      ]
    },
    {
      "cell_type": "code",
      "execution_count": 17,
      "metadata": {
        "id": "49S6J-TzW453"
      },
      "outputs": [],
      "source": [
        "# Initialize the Adam optimizer for the model's parameters\n",
        "# 'model.parameters()' provides the parameters to be optimized\n",
        "# 'lr=LP' sets the learning rate to the value stored in the 'LP' variable\n",
        "optimizer = torch.optim.Adam(model.parameters(), lr=LP)"
      ]
    },
    {
      "cell_type": "code",
      "execution_count": 18,
      "metadata": {
        "colab": {
          "base_uri": "https://localhost:8080/"
        },
        "id": "lBIj0D3Zdodn",
        "outputId": "88c5bc40-0722-438b-d036-372a4d8619ad"
      },
      "outputs": [
        {
          "output_type": "stream",
          "name": "stderr",
          "text": [
            "EPOCH [TRAIN] 1/20: 100%|██████████| 901/901 [00:47<00:00, 18.86it/s, Loss=1.902528, Accuracy=0.346307]\n",
            "EPOCH [VALID] 1/20: 100%|██████████| 221/221 [00:06<00:00, 34.56it/s, Loss=1.409004, Accuracy=0.462496]\n"
          ]
        },
        {
          "output_type": "stream",
          "name": "stdout",
          "text": [
            "SAVED-BEST-WEIGHTS\n"
          ]
        },
        {
          "output_type": "stream",
          "name": "stderr",
          "text": [
            "EPOCH [TRAIN] 2/20: 100%|██████████| 901/901 [00:45<00:00, 19.99it/s, Loss=1.384079, Accuracy=0.469383]\n",
            "EPOCH [VALID] 2/20: 100%|██████████| 221/221 [00:06<00:00, 35.05it/s, Loss=1.264470, Accuracy=0.513923]\n"
          ]
        },
        {
          "output_type": "stream",
          "name": "stdout",
          "text": [
            "SAVED-BEST-WEIGHTS\n"
          ]
        },
        {
          "output_type": "stream",
          "name": "stderr",
          "text": [
            "EPOCH [TRAIN] 3/20: 100%|██████████| 901/901 [00:44<00:00, 20.05it/s, Loss=1.281947, Accuracy=0.512532]\n",
            "EPOCH [VALID] 3/20: 100%|██████████| 221/221 [00:06<00:00, 35.38it/s, Loss=1.175353, Accuracy=0.544324]\n"
          ]
        },
        {
          "output_type": "stream",
          "name": "stdout",
          "text": [
            "SAVED-BEST-WEIGHTS\n"
          ]
        },
        {
          "output_type": "stream",
          "name": "stderr",
          "text": [
            "EPOCH [TRAIN] 4/20: 100%|██████████| 901/901 [00:45<00:00, 19.99it/s, Loss=1.223149, Accuracy=0.533078]\n",
            "EPOCH [VALID] 4/20: 100%|██████████| 221/221 [00:06<00:00, 35.80it/s, Loss=1.141472, Accuracy=0.567047]\n"
          ]
        },
        {
          "output_type": "stream",
          "name": "stdout",
          "text": [
            "SAVED-BEST-WEIGHTS\n"
          ]
        },
        {
          "output_type": "stream",
          "name": "stderr",
          "text": [
            "EPOCH [TRAIN] 5/20: 100%|██████████| 901/901 [00:45<00:00, 19.66it/s, Loss=1.184908, Accuracy=0.551170]\n",
            "EPOCH [VALID] 5/20: 100%|██████████| 221/221 [00:05<00:00, 39.04it/s, Loss=1.108644, Accuracy=0.579523]\n"
          ]
        },
        {
          "output_type": "stream",
          "name": "stdout",
          "text": [
            "SAVED-BEST-WEIGHTS\n"
          ]
        },
        {
          "output_type": "stream",
          "name": "stderr",
          "text": [
            "EPOCH [TRAIN] 6/20: 100%|██████████| 901/901 [00:45<00:00, 19.60it/s, Loss=1.164251, Accuracy=0.562041]\n",
            "EPOCH [VALID] 6/20: 100%|██████████| 221/221 [00:05<00:00, 39.96it/s, Loss=1.088244, Accuracy=0.589497]\n"
          ]
        },
        {
          "output_type": "stream",
          "name": "stdout",
          "text": [
            "SAVED-BEST-WEIGHTS\n"
          ]
        },
        {
          "output_type": "stream",
          "name": "stderr",
          "text": [
            "EPOCH [TRAIN] 7/20: 100%|██████████| 901/901 [00:45<00:00, 19.68it/s, Loss=1.133738, Accuracy=0.570969]\n",
            "EPOCH [VALID] 7/20: 100%|██████████| 221/221 [00:05<00:00, 40.11it/s, Loss=1.142362, Accuracy=0.582938]\n",
            "EPOCH [TRAIN] 8/20: 100%|██████████| 901/901 [00:45<00:00, 19.62it/s, Loss=1.113536, Accuracy=0.578621]\n",
            "EPOCH [VALID] 8/20: 100%|██████████| 221/221 [00:06<00:00, 36.02it/s, Loss=1.137129, Accuracy=0.585777]\n",
            "EPOCH [TRAIN] 9/20: 100%|██████████| 901/901 [00:45<00:00, 19.91it/s, Loss=1.089106, Accuracy=0.591922]\n",
            "EPOCH [VALID] 9/20: 100%|██████████| 221/221 [00:06<00:00, 35.26it/s, Loss=1.041295, Accuracy=0.601342]\n"
          ]
        },
        {
          "output_type": "stream",
          "name": "stdout",
          "text": [
            "SAVED-BEST-WEIGHTS\n"
          ]
        },
        {
          "output_type": "stream",
          "name": "stderr",
          "text": [
            "EPOCH [TRAIN] 10/20: 100%|██████████| 901/901 [00:44<00:00, 20.18it/s, Loss=1.064112, Accuracy=0.597919]\n",
            "EPOCH [VALID] 10/20: 100%|██████████| 221/221 [00:06<00:00, 35.50it/s, Loss=1.082983, Accuracy=0.585744]\n",
            "EPOCH [TRAIN] 11/20: 100%|██████████| 901/901 [00:44<00:00, 20.13it/s, Loss=1.043648, Accuracy=0.608502]\n",
            "EPOCH [VALID] 11/20: 100%|██████████| 221/221 [00:06<00:00, 35.02it/s, Loss=1.064890, Accuracy=0.604420]\n",
            "EPOCH [TRAIN] 12/20: 100%|██████████| 901/901 [00:45<00:00, 19.92it/s, Loss=1.022766, Accuracy=0.612781]\n",
            "EPOCH [VALID] 12/20: 100%|██████████| 221/221 [00:05<00:00, 37.88it/s, Loss=1.015652, Accuracy=0.616048]\n"
          ]
        },
        {
          "output_type": "stream",
          "name": "stdout",
          "text": [
            "SAVED-BEST-WEIGHTS\n"
          ]
        },
        {
          "output_type": "stream",
          "name": "stderr",
          "text": [
            "EPOCH [TRAIN] 13/20: 100%|██████████| 901/901 [00:45<00:00, 19.76it/s, Loss=1.001345, Accuracy=0.624372]\n",
            "EPOCH [VALID] 13/20: 100%|██████████| 221/221 [00:05<00:00, 39.13it/s, Loss=1.032031, Accuracy=0.618952]\n",
            "EPOCH [TRAIN] 14/20: 100%|██████████| 901/901 [00:45<00:00, 19.60it/s, Loss=0.986619, Accuracy=0.629309]\n",
            "EPOCH [VALID] 14/20: 100%|██████████| 221/221 [00:05<00:00, 39.46it/s, Loss=1.039813, Accuracy=0.608478]\n",
            "EPOCH [TRAIN] 15/20: 100%|██████████| 901/901 [00:45<00:00, 19.69it/s, Loss=0.964458, Accuracy=0.636266]\n",
            "EPOCH [VALID] 15/20: 100%|██████████| 221/221 [00:05<00:00, 38.85it/s, Loss=1.032816, Accuracy=0.612644]\n",
            "EPOCH [TRAIN] 16/20: 100%|██████████| 901/901 [00:45<00:00, 19.64it/s, Loss=0.952105, Accuracy=0.642509]\n",
            "EPOCH [VALID] 16/20: 100%|██████████| 221/221 [00:06<00:00, 35.50it/s, Loss=1.037042, Accuracy=0.616396]\n",
            "EPOCH [TRAIN] 17/20: 100%|██████████| 901/901 [00:45<00:00, 19.86it/s, Loss=0.930886, Accuracy=0.653123]\n",
            "EPOCH [VALID] 17/20: 100%|██████████| 221/221 [00:06<00:00, 35.02it/s, Loss=1.014002, Accuracy=0.622063]\n"
          ]
        },
        {
          "output_type": "stream",
          "name": "stdout",
          "text": [
            "SAVED-BEST-WEIGHTS\n"
          ]
        },
        {
          "output_type": "stream",
          "name": "stderr",
          "text": [
            "EPOCH [TRAIN] 18/20: 100%|██████████| 901/901 [00:45<00:00, 20.02it/s, Loss=0.910361, Accuracy=0.658465]\n",
            "EPOCH [VALID] 18/20: 100%|██████████| 221/221 [00:06<00:00, 35.22it/s, Loss=1.017160, Accuracy=0.625098]\n",
            "EPOCH [TRAIN] 19/20: 100%|██████████| 901/901 [00:44<00:00, 20.12it/s, Loss=0.896508, Accuracy=0.664014]\n",
            "EPOCH [VALID] 19/20: 100%|██████████| 221/221 [00:06<00:00, 36.08it/s, Loss=1.028355, Accuracy=0.622553]\n",
            "EPOCH [TRAIN] 20/20: 100%|██████████| 901/901 [00:45<00:00, 19.81it/s, Loss=0.883211, Accuracy=0.673569]\n",
            "EPOCH [VALID] 20/20: 100%|██████████| 221/221 [00:05<00:00, 38.57it/s, Loss=1.004343, Accuracy=0.627317]\n"
          ]
        },
        {
          "output_type": "stream",
          "name": "stdout",
          "text": [
            "SAVED-BEST-WEIGHTS\n"
          ]
        }
      ],
      "source": [
        "# Initialize a variable to store the best validation loss as positive infinity\n",
        "best_valid_loss = np.Inf\n",
        "\n",
        "# Iterate over the specified number of training epochs\n",
        "for i in range(EPOCHS):\n",
        "    # Train the model for one epoch and calculate training loss and accuracy\n",
        "    train_loss, train_acc = train_fn(model, trainloader, optimizer, i)\n",
        "\n",
        "    # Evaluate the model on the validation dataset for one epoch and calculate validation loss and accuracy\n",
        "    valid_loss, valid_acc = eval_fn(model, validloader, i)\n",
        "\n",
        "    # Check if the current validation loss is better (lower) than the best validation loss so far\n",
        "    if valid_loss < best_valid_loss:\n",
        "        # Save the model's state dictionary to 'best-weights.pt'\n",
        "        torch.save(model.state_dict(), 'best-weights.pt')\n",
        "        print(\"SAVED-BEST-WEIGHTS\")\n",
        "        # Update the best validation loss with the current validation loss\n",
        "        best_valid_loss = valid_loss\n"
      ]
    },
    {
      "cell_type": "code",
      "source": [
        "# Define a function for visualizing image classification results\n",
        "def view_classify(img, ps):\n",
        "    # Define a list of class names corresponding to the output classes\n",
        "    classes = ['angry', 'disgust', 'fear', 'happy', 'neutral', 'sad', 'surprise']\n",
        "\n",
        "    # Convert the predicted probabilities to a NumPy array and remove the extra dimensions\n",
        "    ps = ps.data.cpu().numpy().squeeze()\n",
        "\n",
        "    # Convert the image tensor to a NumPy array and transpose it to the correct format\n",
        "    img = img.numpy().transpose(1, 2, 0)\n",
        "\n",
        "    # Create a figure with two subplots for displaying the image and class probabilities\n",
        "    fig, (ax1, ax2) = plt.subplots(figsize=(5, 9), ncols=2)\n",
        "\n",
        "    # Display the image on the left subplot and remove axis labels\n",
        "    ax1.imshow(img)\n",
        "    ax1.axis('off')\n",
        "\n",
        "    # Create a horizontal bar chart on the right subplot to visualize class probabilities\n",
        "    ax2.barh(classes, ps)\n",
        "    ax2.set_aspect(0.1)\n",
        "    ax2.set_yticks(classes)\n",
        "    ax2.set_yticklabels(classes)\n",
        "    ax2.set_title('Class Probability')\n",
        "    ax2.set_xlim(0, 1.1)\n",
        "\n",
        "    # Ensure a tight layout for better visualization\n",
        "    plt.tight_layout()\n",
        "\n",
        "    # Return None (this function is used for visualization purposes)\n",
        "    return None"
      ],
      "metadata": {
        "id": "K66rXjIfMH3v"
      },
      "execution_count": 20,
      "outputs": []
    },
    {
      "cell_type": "code",
      "source": [
        "# Define the file path for the image\n",
        "image_path = '/content/download (2).jpeg'\n",
        "\n",
        "# Open and load the image using PIL\n",
        "image = Image.open(image_path)\n",
        "\n",
        "# Convert the image to grayscale using ImageOps\n",
        "bw_image = ImageOps.grayscale(image)\n",
        "\n",
        "# Define a series of image transformation operations using torchvision transforms\n",
        "resize_transform = T.Compose([\n",
        "    # Resize the image to a specified size (48x48 pixels)\n",
        "    T.Resize((48, 48)),\n",
        "\n",
        "    # Convert the image to grayscale with three channels\n",
        "    T.Grayscale(num_output_channels=3),\n",
        "\n",
        "    # Convert the image to a PyTorch tensor\n",
        "    T.ToTensor(),\n",
        "\n",
        "    # Normalize the image using specified mean and standard deviation values\n",
        "    T.Normalize(mean=[0.485, 0.456, 0.406], std=[0.229, 0.224, 0.225])\n",
        "])\n",
        "\n",
        "# Apply the defined transformations to the input image and unsqueeze it to add a batch dimension\n",
        "input_image = resize_transform(image).unsqueeze(0)\n",
        "\n",
        "# Move the input image to the specified device (e.g., 'cuda' for GPU)\n",
        "input_image = input_image.to(DEVICE)\n",
        "\n",
        "# Disable gradient tracking and set the model to evaluation mode\n",
        "with torch.no_grad():\n",
        "    model.eval()\n",
        "\n",
        "    # Perform forward pass on the input image to obtain model predictions\n",
        "    output = model(input_image)\n",
        "\n",
        "# Move the model predictions and input image back to the CPU for visualization\n",
        "output = output.cpu()\n",
        "input_image = input_image.cpu()\n",
        "\n",
        "# Use the 'view_classify' function to visualize the classification results\n",
        "view_classify(input_image[0], torch.softmax(output, dim=1))"
      ],
      "metadata": {
        "colab": {
          "base_uri": "https://localhost:8080/",
          "height": 248
        },
        "id": "YUsGT3pgxAGV",
        "outputId": "dafc4644-8365-4ff8-f421-b2f0a2970d88"
      },
      "execution_count": 22,
      "outputs": [
        {
          "output_type": "stream",
          "name": "stderr",
          "text": [
            "WARNING:matplotlib.image:Clipping input data to the valid range for imshow with RGB data ([0..1] for floats or [0..255] for integers).\n"
          ]
        },
        {
          "output_type": "display_data",
          "data": {
            "text/plain": [
              "<Figure size 500x900 with 2 Axes>"
            ],
            "image/png": "[encoded data removed]"
          },
          "metadata": {}
        }
      ]
    }
  ],
  "metadata": {
    "accelerator": "GPU",
    "colab": {
      "provenance": [],
      "gpuType": "T4",
      "authorship_tag": "ABX9TyOp4ZOYhtAxo4KTPy5x+FyQ",
      "include_colab_link": true
    },
    "kernelspec": {
      "display_name": "Python 3",
      "name": "python3"
    },
    "language_info": {
      "name": "python"
    },
    "widgets": {
      "application/vnd.jupyter.widget-state+json": {
        "0126e5de17154119b5349490ae7a9266": {
          "model_module": "@jupyter-widgets/controls",
          "model_name": "HBoxModel",
          "model_module_version": "1.5.0",
          "state": {
            "_dom_classes": [],
            "_model_module": "@jupyter-widgets/controls",
            "_model_module_version": "1.5.0",
            "_model_name": "HBoxModel",
            "_view_count": null,
            "_view_module": "@jupyter-widgets/controls",
            "_view_module_version": "1.5.0",
            "_view_name": "HBoxView",
            "box_style": "",
            "children": [
              "IPY_MODEL_dc9c468e9eec4be4bb93cd41365e8629",
              "IPY_MODEL_6261561d691244128a2add85f91ff938",
              "IPY_MODEL_3ae59230537d432da86c538a9643c135"
            ],
            "layout": "IPY_MODEL_ee92fb739ec64bbc99fcfebc98463f09"
          }
        },
        "dc9c468e9eec4be4bb93cd41365e8629": {
          "model_module": "@jupyter-widgets/controls",
          "model_name": "HTMLModel",
          "model_module_version": "1.5.0",
          "state": {
            "_dom_classes": [],
            "_model_module": "@jupyter-widgets/controls",
            "_model_module_version": "1.5.0",
            "_model_name": "HTMLModel",
            "_view_count": null,
            "_view_module": "@jupyter-widgets/controls",
            "_view_module_version": "1.5.0",
            "_view_name": "HTMLView",
            "description": "",
            "description_tooltip": null,
            "layout": "IPY_MODEL_5a7c30f2f61a458693547c178b19ab37",
            "placeholder": "​",
            "style": "IPY_MODEL_23f8646b84d34c09881a60b33a39b15d",
            "value": "Downloading model.safetensors: 100%"
          }
        },
        "6261561d691244128a2add85f91ff938": {
          "model_module": "@jupyter-widgets/controls",
          "model_name": "FloatProgressModel",
          "model_module_version": "1.5.0",
          "state": {
            "_dom_classes": [],
            "_model_module": "@jupyter-widgets/controls",
            "_model_module_version": "1.5.0",
            "_model_name": "FloatProgressModel",
            "_view_count": null,
            "_view_module": "@jupyter-widgets/controls",
            "_view_module_version": "1.5.0",
            "_view_name": "ProgressView",
            "bar_style": "success",
            "description": "",
            "description_tooltip": null,
            "layout": "IPY_MODEL_bf051edcc28a4dc6bb809d295189a618",
            "max": 21355344,
            "min": 0,
            "orientation": "horizontal",
            "style": "IPY_MODEL_2070f58f005b4876ae8a31f8b1aebba6",
            "value": 21355344
          }
        },
        "3ae59230537d432da86c538a9643c135": {
          "model_module": "@jupyter-widgets/controls",
          "model_name": "HTMLModel",
          "model_module_version": "1.5.0",
          "state": {
            "_dom_classes": [],
            "_model_module": "@jupyter-widgets/controls",
            "_model_module_version": "1.5.0",
            "_model_name": "HTMLModel",
            "_view_count": null,
            "_view_module": "@jupyter-widgets/controls",
            "_view_module_version": "1.5.0",
            "_view_name": "HTMLView",
            "description": "",
            "description_tooltip": null,
            "layout": "IPY_MODEL_a8b7de3aa1d240ada495b5d1f4eba232",
            "placeholder": "​",
            "style": "IPY_MODEL_93adf32a96364483929fb2e928826b23",
            "value": " 21.4M/21.4M [00:00&lt;00:00, 70.3MB/s]"
          }
        },
        "ee92fb739ec64bbc99fcfebc98463f09": {
          "model_module": "@jupyter-widgets/base",
          "model_name": "LayoutModel",
          "model_module_version": "1.2.0",
          "state": {
            "_model_module": "@jupyter-widgets/base",
            "_model_module_version": "1.2.0",
            "_model_name": "LayoutModel",
            "_view_count": null,
            "_view_module": "@jupyter-widgets/base",
            "_view_module_version": "1.2.0",
            "_view_name": "LayoutView",
            "align_content": null,
            "align_items": null,
            "align_self": null,
            "border": null,
            "bottom": null,
            "display": null,
            "flex": null,
            "flex_flow": null,
            "grid_area": null,
            "grid_auto_columns": null,
            "grid_auto_flow": null,
            "grid_auto_rows": null,
            "grid_column": null,
            "grid_gap": null,
            "grid_row": null,
            "grid_template_areas": null,
            "grid_template_columns": null,
            "grid_template_rows": null,
            "height": null,
            "justify_content": null,
            "justify_items": null,
            "left": null,
            "margin": null,
            "max_height": null,
            "max_width": null,
            "min_height": null,
            "min_width": null,
            "object_fit": null,
            "object_position": null,
            "order": null,
            "overflow": null,
            "overflow_x": null,
            "overflow_y": null,
            "padding": null,
            "right": null,
            "top": null,
            "visibility": null,
            "width": null
          }
        },
        "5a7c30f2f61a458693547c178b19ab37": {
          "model_module": "@jupyter-widgets/base",
          "model_name": "LayoutModel",
          "model_module_version": "1.2.0",
          "state": {
            "_model_module": "@jupyter-widgets/base",
            "_model_module_version": "1.2.0",
            "_model_name": "LayoutModel",
            "_view_count": null,
            "_view_module": "@jupyter-widgets/base",
            "_view_module_version": "1.2.0",
            "_view_name": "LayoutView",
            "align_content": null,
            "align_items": null,
            "align_self": null,
            "border": null,
            "bottom": null,
            "display": null,
            "flex": null,
            "flex_flow": null,
            "grid_area": null,
            "grid_auto_columns": null,
            "grid_auto_flow": null,
            "grid_auto_rows": null,
            "grid_column": null,
            "grid_gap": null,
            "grid_row": null,
            "grid_template_areas": null,
            "grid_template_columns": null,
            "grid_template_rows": null,
            "height": null,
            "justify_content": null,
            "justify_items": null,
            "left": null,
            "margin": null,
            "max_height": null,
            "max_width": null,
            "min_height": null,
            "min_width": null,
            "object_fit": null,
            "object_position": null,
            "order": null,
            "overflow": null,
            "overflow_x": null,
            "overflow_y": null,
            "padding": null,
            "right": null,
            "top": null,
            "visibility": null,
            "width": null
          }
        },
        "23f8646b84d34c09881a60b33a39b15d": {
          "model_module": "@jupyter-widgets/controls",
          "model_name": "DescriptionStyleModel",
          "model_module_version": "1.5.0",
          "state": {
            "_model_module": "@jupyter-widgets/controls",
            "_model_module_version": "1.5.0",
            "_model_name": "DescriptionStyleModel",
            "_view_count": null,
            "_view_module": "@jupyter-widgets/base",
            "_view_module_version": "1.2.0",
            "_view_name": "StyleView",
            "description_width": ""
          }
        },
        "bf051edcc28a4dc6bb809d295189a618": {
          "model_module": "@jupyter-widgets/base",
          "model_name": "LayoutModel",
          "model_module_version": "1.2.0",
          "state": {
            "_model_module": "@jupyter-widgets/base",
            "_model_module_version": "1.2.0",
            "_model_name": "LayoutModel",
            "_view_count": null,
            "_view_module": "@jupyter-widgets/base",
            "_view_module_version": "1.2.0",
            "_view_name": "LayoutView",
            "align_content": null,
            "align_items": null,
            "align_self": null,
            "border": null,
            "bottom": null,
            "display": null,
            "flex": null,
            "flex_flow": null,
            "grid_area": null,
            "grid_auto_columns": null,
            "grid_auto_flow": null,
            "grid_auto_rows": null,
            "grid_column": null,
            "grid_gap": null,
            "grid_row": null,
            "grid_template_areas": null,
            "grid_template_columns": null,
            "grid_template_rows": null,
            "height": null,
            "justify_content": null,
            "justify_items": null,
            "left": null,
            "margin": null,
            "max_height": null,
            "max_width": null,
            "min_height": null,
            "min_width": null,
            "object_fit": null,
            "object_position": null,
            "order": null,
            "overflow": null,
            "overflow_x": null,
            "overflow_y": null,
            "padding": null,
            "right": null,
            "top": null,
            "visibility": null,
            "width": null
          }
        },
        "2070f58f005b4876ae8a31f8b1aebba6": {
          "model_module": "@jupyter-widgets/controls",
          "model_name": "ProgressStyleModel",
          "model_module_version": "1.5.0",
          "state": {
            "_model_module": "@jupyter-widgets/controls",
            "_model_module_version": "1.5.0",
            "_model_name": "ProgressStyleModel",
            "_view_count": null,
            "_view_module": "@jupyter-widgets/base",
            "_view_module_version": "1.2.0",
            "_view_name": "StyleView",
            "bar_color": null,
            "description_width": ""
          }
        },
        "a8b7de3aa1d240ada495b5d1f4eba232": {
          "model_module": "@jupyter-widgets/base",
          "model_name": "LayoutModel",
          "model_module_version": "1.2.0",
          "state": {
            "_model_module": "@jupyter-widgets/base",
            "_model_module_version": "1.2.0",
            "_model_name": "LayoutModel",
            "_view_count": null,
            "_view_module": "@jupyter-widgets/base",
            "_view_module_version": "1.2.0",
            "_view_name": "LayoutView",
            "align_content": null,
            "align_items": null,
            "align_self": null,
            "border": null,
            "bottom": null,
            "display": null,
            "flex": null,
            "flex_flow": null,
            "grid_area": null,
            "grid_auto_columns": null,
            "grid_auto_flow": null,
            "grid_auto_rows": null,
            "grid_column": null,
            "grid_gap": null,
            "grid_row": null,
            "grid_template_areas": null,
            "grid_template_columns": null,
            "grid_template_rows": null,
            "height": null,
            "justify_content": null,
            "justify_items": null,
            "left": null,
            "margin": null,
            "max_height": null,
            "max_width": null,
            "min_height": null,
            "min_width": null,
            "object_fit": null,
            "object_position": null,
            "order": null,
            "overflow": null,
            "overflow_x": null,
            "overflow_y": null,
            "padding": null,
            "right": null,
            "top": null,
            "visibility": null,
            "width": null
          }
        },
        "93adf32a96364483929fb2e928826b23": {
          "model_module": "@jupyter-widgets/controls",
          "model_name": "DescriptionStyleModel",
          "model_module_version": "1.5.0",
          "state": {
            "_model_module": "@jupyter-widgets/controls",
            "_model_module_version": "1.5.0",
            "_model_name": "DescriptionStyleModel",
            "_view_count": null,
            "_view_module": "@jupyter-widgets/base",
            "_view_module_version": "1.2.0",
            "_view_name": "StyleView",
            "description_width": ""
          }
        }
      }
    }
  },
  "nbformat": 4,
  "nbformat_minor": 0
}